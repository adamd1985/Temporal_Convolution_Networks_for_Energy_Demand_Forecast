{
 "cells": [
  {
   "cell_type": "code",
   "execution_count": 1,
   "metadata": {},
   "outputs": [],
   "source": [
    "import numpy as np\n",
    "import matplotlib.pyplot as plt\n",
    "import pandas as pd\n",
    "import seaborn as sns\n",
    "from sklearn.linear_model import LinearRegression\n",
    "from sklearn.metrics import mean_absolute_error, mean_absolute_percentage_error, mean_squared_error, r2_score\n",
    "from sklearn.preprocessing import PolynomialFeatures"
   ]
  },
  {
   "cell_type": "code",
   "execution_count": 2,
   "metadata": {},
   "outputs": [],
   "source": [
    "# Loading datasets\n",
    "training_data = pd.read_csv(\"data/train_data.csv\")\n",
    "test_data = pd.read_csv(\"data/test_data.csv\")"
   ]
  },
  {
   "cell_type": "markdown",
   "metadata": {},
   "source": [
    "# Max Demand Prediction"
   ]
  },
  {
   "cell_type": "markdown",
   "metadata": {},
   "source": [
    "# Data Visualisation\n",
    "  \n",
    "Scatter plots were created to examine the relationship between the feature variables and the target."
   ]
  },
  {
   "cell_type": "code",
   "execution_count": null,
   "metadata": {},
   "outputs": [],
   "source": [
    "fig, axes = plt.subplots(1, 2, figsize=(12, 5))\n",
    "\n",
    "sns.scatterplot(x=\"tavg\", y=\"Max_Demand_GW\", data=training_data, ax=axes[0])\n",
    "axes[0].set_title(\"Scatter Plot of Average Temperature vs Max_Demand_GW\")\n",
    "\n",
    "sns.scatterplot(x=\"Population_k\", y=\"Max_Demand_GW\", data=training_data, ax=axes[1])\n",
    "axes[1].set_title(\"Scatter Plot of Population vs Max_Demand_GW\")\n",
    "\n",
    "plt.tight_layout()\n",
    "plt.show()"
   ]
  },
  {
   "cell_type": "markdown",
   "metadata": {},
   "source": [
    "# Evaluating Models' Performance\n",
    "  \n",
    "Links used:  \n",
    "\n",
    "Polynomial Regression:  \n",
    "https://scikit-learn.org/stable/modules/generated/sklearn.preprocessing.PolynomialFeatures.html  \n",
    "https://www.kaggle.com/code/lxlz1986/polynomial-regression-in-scikit-learn  \n",
    "  \n",
    "For MAPE calculation:  \n",
    "https://stackoverflow.com/questions/47648133/mape-calculation-in-python"
   ]
  },
  {
   "cell_type": "markdown",
   "metadata": {},
   "source": [
    "## Linear Model"
   ]
  },
  {
   "cell_type": "code",
   "execution_count": null,
   "metadata": {},
   "outputs": [],
   "source": [
    "# Linear model\n",
    "features = [\"Population_k\", \"tavg\"]\n",
    "targets = [\"Max_Demand_GW\"]\n",
    "\n",
    "linear_model = LinearRegression()\n",
    "linear_model.fit(training_data[features], training_data[targets])\n",
    "\n",
    "# Linear model predictions\n",
    "linear_model_max_demand_predictions = linear_model.predict(test_data[features])\n",
    "\n",
    "# Linear model evaluation\n",
    "mae_test= mean_absolute_error(test_data[targets], linear_model_max_demand_predictions)\n",
    "print(f\"Mean Absolute Error (MAE): {mae_test}\")\n",
    "\n",
    "def mean_absolute_percentage_error(actual, predictions): \n",
    "    actual, predictions = np.array(actual), np.array(predictions)\n",
    "    return np.mean(np.abs((actual - predictions) / actual)) * 100\n",
    "mape = mean_absolute_percentage_error(test_data[targets], linear_model_max_demand_predictions)\n",
    "print(f'Mean Abslute Percentage (MAPE): {mape:.2f}%')\n",
    "\n",
    "mpe = np.mean((test_data[targets] - linear_model_max_demand_predictions) / test_data[targets]) * 100\n",
    "print(f\"Mean Percentage Error (MPE): {mpe}\")\n",
    "\n",
    "mse_test = mean_squared_error(test_data[targets], linear_model_max_demand_predictions)\n",
    "print(f\"Mean Squared Error (MSE): {mse_test}\")\n",
    "\n",
    "r2 = r2_score(test_data[targets], linear_model_max_demand_predictions)\n",
    "print(f\"R-squared (R2): {r2}\")"
   ]
  },
  {
   "cell_type": "markdown",
   "metadata": {},
   "source": [
    "## Non-Linear Model"
   ]
  },
  {
   "cell_type": "code",
   "execution_count": null,
   "metadata": {},
   "outputs": [],
   "source": [
    "# Non-linear model\n",
    "features = [\"Population_k\", \"tavg\"]\n",
    "targets = [\"Max_Demand_GW\"]\n",
    "\n",
    "polynomial_features = PolynomialFeatures(degree=2)\n",
    "\n",
    "x_train_polynomial = polynomial_features.fit_transform(training_data[features])\n",
    "nonlinear_model = LinearRegression()\n",
    "nonlinear_model.fit(x_train_polynomial, training_data[targets])\n",
    "\n",
    "# Non-linear model predictions\n",
    "x_test_polynomial = polynomial_features.fit_transform(test_data[features])\n",
    "nonlinear_model_max_demand_predictions = nonlinear_model.predict(x_test_polynomial)\n",
    "\n",
    "# Non-linear model evaluation\n",
    "mae_test= mean_absolute_error(test_data[targets], nonlinear_model_max_demand_predictions)\n",
    "print(f\"Mean Absolute Error (MAE): {mae_test}\")\n",
    "\n",
    "def mean_absolute_percentage_error(actual, predictions): \n",
    "    actual, predictions = np.array(actual), np.array(predictions)\n",
    "    return np.mean(np.abs((actual - predictions) / actual)) * 100\n",
    "mape = mean_absolute_percentage_error(test_data[targets], nonlinear_model_max_demand_predictions)\n",
    "print(f'Mean Abslute Percentage (MAPE): {mape:.2f}%')\n",
    "\n",
    "mpe = np.mean((test_data[targets] - nonlinear_model_max_demand_predictions) / test_data[targets]) * 100\n",
    "print(f\"Mean Percentage Error (MPE): {mpe}\")\n",
    "\n",
    "mse_test = mean_squared_error(test_data[targets], nonlinear_model_max_demand_predictions)\n",
    "print(f\"Mean Squared Error (MSE): {mse_test}\")\n",
    "\n",
    "r2 = r2_score(test_data[targets], nonlinear_model_max_demand_predictions)\n",
    "print(f\"R-squared (R2): {r2}\")\n",
    "\n",
    "def calculate_wape(actual, prediction):\n",
    "    residuals = actual - prediction\n",
    "    normalized_residuals = residuals / np.max(np.abs(residuals))\n",
    "    weights = np.abs(normalized_residuals)\n",
    "\n",
    "    abs_percentage_error = np.abs((actual - prediction) / actual) * 100\n",
    "\n",
    "    wape = np.average(abs_percentage_error, weights=weights)\n",
    "\n",
    "    return wape\n",
    "\n",
    "wape = calculate_wape(test_data[targets], nonlinear_model_max_demand_predictions)\n",
    "print(f\"WAPE: {wape}\")"
   ]
  },
  {
   "cell_type": "markdown",
   "metadata": {},
   "source": [
    "## Visualise Predictions against Actual Values over Time"
   ]
  },
  {
   "cell_type": "code",
   "execution_count": null,
   "metadata": {},
   "outputs": [],
   "source": [
    "# Plot results\n",
    "plt.figure(figsize=(14,6))\n",
    "plt.plot(test_data[\"Date\"], test_data[targets], color=\"green\", label=\"True Values\")\n",
    "plt.plot(test_data[\"Date\"], linear_model_max_demand_predictions, color=\"red\", label=\"Linear Predictions\")\n",
    "plt.plot(test_data[\"Date\"], nonlinear_model_max_demand_predictions, color=\"blue\", label=\"Polynomial Predictions\")\n",
    "plt.xticks(rotation=90)\n",
    "plt.xlabel(\"Date\")\n",
    "plt.ylabel(\"Max_Demand_GW\")\n",
    "plt.legend()\n",
    "plt.show()"
   ]
  },
  {
   "cell_type": "markdown",
   "metadata": {},
   "source": [
    "# Max Demand Prediction Conclusion \n",
    "**From the models' evaluation metrics, it shows that a non-linear/polynomial fit is more suitable. The \"Predictions against the Actual Values over Time\" chart, also indicates that the non-linear model predicts the peaks better. Furthermore, considering the problem being tackled, it is better to have a model that predicts more demand than it is actually needed rather than a model which predicts less demand than needed. After these analyses it makes more sense to predict Plant Generation based on the non-linear model.**"
   ]
  },
  {
   "cell_type": "markdown",
   "metadata": {},
   "source": [
    "# Plant Production Prediction"
   ]
  },
  {
   "cell_type": "markdown",
   "metadata": {},
   "source": [
    "# Data Visualisation"
   ]
  },
  {
   "cell_type": "code",
   "execution_count": null,
   "metadata": {},
   "outputs": [],
   "source": [
    "sns.scatterplot(x=\"Max_Demand_GW\", y=\"Plant_Production_GWh\", data=training_data)"
   ]
  },
  {
   "cell_type": "markdown",
   "metadata": {},
   "source": [
    "# Linear Regression Model\n",
    "  \n",
    "Based on the above scatter plot the correlation between the feature and target variable is linear, therefor a Linear Regression Model will be applied."
   ]
  },
  {
   "cell_type": "code",
   "execution_count": null,
   "metadata": {},
   "outputs": [],
   "source": [
    "features = [\"Max_Demand_GW\"]\n",
    "targets = [\"Plant_Production_GWh\"]\n",
    "\n",
    "linear_model = LinearRegression()\n",
    "linear_model.fit(training_data[features], training_data[targets])\n",
    "\n",
    "# Linear model predictions\n",
    "linear_model_plant_production_predictions = linear_model.predict(test_data[features])\n",
    "\n",
    "# Linear model evaluation\n",
    "mae_test= mean_absolute_error(test_data[targets], linear_model_plant_production_predictions)\n",
    "print(f\"Mean Absolute Error (MAE): {mae_test}\")\n",
    "\n",
    "def mean_absolute_percentage_error(actual, predictions): \n",
    "    actual, predictions = np.array(actual), np.array(predictions)\n",
    "    return np.mean(np.abs((actual - predictions) / actual)) * 100\n",
    "mape = mean_absolute_percentage_error(test_data[targets], linear_model_plant_production_predictions)\n",
    "print(f'Mean Abslute Percentage (MAPE): {mape:.2f}%')\n",
    "\n",
    "mpe = np.mean((test_data[targets] - linear_model_plant_production_predictions) / test_data[targets]) * 100\n",
    "print(f\"Mean Percentage Error (MPE): {mpe}\")\n",
    "\n",
    "mse_test = mean_squared_error(test_data[targets], linear_model_plant_production_predictions)\n",
    "print(f\"Mean Squared Error (MSE): {mse_test}\")\n",
    "\n",
    "r2 = r2_score(test_data[targets], linear_model_plant_production_predictions)\n",
    "print(f\"R-squared (R2): {r2}\")\n",
    "\n",
    "def calculate_wape(actual, prediction):\n",
    "    residuals = actual - prediction\n",
    "    normalized_residuals = residuals / np.max(np.abs(residuals))\n",
    "    weights = np.abs(normalized_residuals)\n",
    "\n",
    "    abs_percentage_error = np.abs((actual - prediction) / actual) * 100\n",
    "\n",
    "    wape = np.average(abs_percentage_error, weights=weights)\n",
    "\n",
    "    return wape\n",
    "\n",
    "wape = calculate_wape(test_data[targets], linear_model_plant_production_predictions)\n",
    "print(f\"WAPE: {wape}\")"
   ]
  },
  {
   "cell_type": "markdown",
   "metadata": {},
   "source": [
    "# Visualise Predictions against True Values"
   ]
  },
  {
   "cell_type": "code",
   "execution_count": null,
   "metadata": {},
   "outputs": [],
   "source": [
    "plt.scatter(test_data[features], test_data[targets], color=\"blue\", label=\"True Values\")\n",
    "plt.scatter(test_data[features], linear_model_plant_production_predictions, color=\"red\", label=\"Predictions\")\n",
    "plt.xlabel(\"Max_Demand_GW\")\n",
    "plt.ylabel(\"Plant_Generation_GWh\")\n",
    "plt.legend()\n",
    "plt.show()"
   ]
  },
  {
   "cell_type": "markdown",
   "metadata": {},
   "source": [
    "# Visualise Predictions against True Values over Time"
   ]
  },
  {
   "cell_type": "code",
   "execution_count": null,
   "metadata": {},
   "outputs": [],
   "source": [
    "plt.figure(figsize=(12,6))\n",
    "plt.plot(test_data[\"Date\"], test_data[targets], color=\"blue\", label=\"True Values\")\n",
    "plt.plot(test_data[\"Date\"], linear_model_plant_production_predictions, color=\"red\", label=\"Predictions\")\n",
    "plt.xticks(rotation=90)\n",
    "plt.xlabel(\"Date\")\n",
    "plt.ylabel(\"Plant_Generation_GWh\")\n",
    "plt.legend()\n",
    "plt.show()"
   ]
  },
  {
   "cell_type": "markdown",
   "metadata": {},
   "source": [
    "# Predicting Plant Production from the Predicted Max Demand over Time"
   ]
  },
  {
   "cell_type": "code",
   "execution_count": null,
   "metadata": {},
   "outputs": [],
   "source": [
    "plant_production_predictions = linear_model.predict(nonlinear_model_max_demand_predictions)\n",
    "\n",
    "# Plot results\n",
    "plt.figure(figsize=(12,6))\n",
    "plt.plot(test_data[\"Date\"], test_data[\"Plant_Production_GWh\"], color=\"blue\", label=\"True Values\")\n",
    "plt.plot(test_data[\"Date\"], plant_production_predictions, color=\"red\", label=\"Predictions\")\n",
    "plt.xticks(rotation=90)\n",
    "plt.xlabel(\"Date\")\n",
    "plt.ylabel(\"Plant_Generation_GWh\")\n",
    "plt.legend()\n",
    "plt.show()"
   ]
  },
  {
   "cell_type": "markdown",
   "metadata": {},
   "source": [
    "# Analysing Output of Plant Production Prediction from Predicted Max Demand Over Actual Values in Time"
   ]
  },
  {
   "cell_type": "code",
   "execution_count": null,
   "metadata": {},
   "outputs": [],
   "source": [
    "mae_test= mean_absolute_error(test_data[targets], plant_production_predictions)\n",
    "print(f\"Mean Absolute Error (MAE): {mae_test}\")\n",
    "\n",
    "def mean_absolute_percentage_error(actual, predictions): \n",
    "    actual, predictions = np.array(actual), np.array(predictions)\n",
    "    return np.mean(np.abs((actual - predictions) / actual)) * 100\n",
    "mape = mean_absolute_percentage_error(test_data[targets], plant_production_predictions)\n",
    "print(f'Mean Abslute Percentage (MAPE): {mape:.2f}%')\n",
    "\n",
    "mpe = np.mean((test_data[targets] - plant_production_predictions) / test_data[targets]) * 100\n",
    "print(f\"Mean Percentage Error (MPE): {mpe}\")\n",
    "\n",
    "mse_test = mean_squared_error(test_data[targets], plant_production_predictions)\n",
    "print(f\"Mean Squared Error (MSE): {mse_test}\")\n",
    "\n",
    "r2 = r2_score(test_data[targets], plant_production_predictions)\n",
    "print(f\"R-squared (R2): {r2}\")\n",
    "\n",
    "def calculate_wape(actual, prediction):\n",
    "    residuals = actual - prediction\n",
    "    normalized_residuals = residuals / np.max(np.abs(residuals))\n",
    "    weights = np.abs(normalized_residuals)\n",
    "\n",
    "    abs_percentage_error = np.abs((actual - prediction) / actual) * 100\n",
    "\n",
    "    wape = np.average(abs_percentage_error, weights=weights)\n",
    "\n",
    "    return wape\n",
    "\n",
    "wape = calculate_wape(test_data[targets], plant_production_predictions)\n",
    "print(f\"WAPE: {wape}\")"
   ]
  }
 ],
 "metadata": {
  "kernelspec": {
   "display_name": "aml",
   "language": "python",
   "name": "python3"
  },
  "language_info": {
   "codemirror_mode": {
    "name": "ipython",
    "version": 3
   },
   "file_extension": ".py",
   "mimetype": "text/x-python",
   "name": "python",
   "nbconvert_exporter": "python",
   "pygments_lexer": "ipython3",
   "version": "3.10.13"
  }
 },
 "nbformat": 4,
 "nbformat_minor": 2
}
