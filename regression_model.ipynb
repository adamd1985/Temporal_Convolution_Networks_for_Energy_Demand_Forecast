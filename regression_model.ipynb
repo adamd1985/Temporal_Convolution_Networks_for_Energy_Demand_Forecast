{
 "cells": [
  {
   "cell_type": "code",
   "execution_count": 1,
   "metadata": {},
   "outputs": [],
   "source": [
    "import numpy as np\n",
    "import matplotlib.pyplot as plt\n",
    "import pandas as pd\n",
    "from sklearn.linear_model import LinearRegression\n",
    "from sklearn.metrics import mean_absolute_error, mean_absolute_percentage_error, mean_squared_error, r2_score\n",
    "from sklearn.pipeline import make_pipeline\n",
    "from sklearn.preprocessing import PolynomialFeatures"
   ]
  },
  {
   "cell_type": "code",
   "execution_count": 2,
   "metadata": {},
   "outputs": [],
   "source": [
    "# Importing cleaned datasets\n",
    "training_data = pd.read_csv(\"data/train_data.csv\")\n",
    "test_data = pd.read_csv(\"data/test_data.csv\")"
   ]
  },
  {
   "cell_type": "code",
   "execution_count": 3,
   "metadata": {},
   "outputs": [],
   "source": [
    "# Splitting the features and the target for datasets\n",
    "features = [\"Plant_Production_GWh\", \"Population_k\", \"tmax\"]\n",
    "target = [\"Max_Demand_GW\"]\n",
    "\n",
    "x_train = training_data[features]\n",
    "y_train = training_data[target]\n",
    "\n",
    "x_test = test_data[features]\n",
    "y_test = test_data[target]"
   ]
  },
  {
   "cell_type": "markdown",
   "metadata": {},
   "source": [
    "# Linear Regression"
   ]
  },
  {
   "cell_type": "code",
   "execution_count": null,
   "metadata": {},
   "outputs": [],
   "source": [
    "# Linear Regression\n",
    "linear_model = LinearRegression()\n",
    "linear_model.fit(x_train, y_train)"
   ]
  },
  {
   "cell_type": "code",
   "execution_count": null,
   "metadata": {},
   "outputs": [],
   "source": [
    "# Make predictions on the test dataset\n",
    "linear_model_prediction = linear_model.predict(x_test)\n",
    "\n",
    "# Model evaluation\n",
    "mae_test = mean_absolute_error(y_test, linear_model_prediction)\n",
    "print(f\"Mean Absolute Error (MAE): {mae_test}\")\n",
    "\n",
    "def mean_absolute_percentage_error(actual, predictions): \n",
    "    actual, predictions = np.array(actual), np.array(predictions)\n",
    "    return np.mean(np.abs((actual - predictions) / actual)) * 100\n",
    "\n",
    "mape = mean_absolute_percentage_error(y_test, linear_model_prediction)\n",
    "print(f'Mean Absolute Percentage (MAPE): {mape:.2f}%')\n",
    "\n",
    "mpe = np.mean((y_test - linear_model_prediction) / y_test) * 100\n",
    "print(f\"Mean Percentage Error (MPE): {mpe}\")\n",
    "\n",
    "mse_test = mean_squared_error(y_test, linear_model_prediction)\n",
    "print(f\"Mean Squared Error (MSE): {mse_test}\")\n",
    "\n",
    "r2 = r2_score(y_test, linear_model_prediction)\n",
    "print(f\"R-squared (R2): {r2}\")"
   ]
  },
  {
   "cell_type": "code",
   "execution_count": null,
   "metadata": {},
   "outputs": [],
   "source": [
    "# Plot predictions against ideal line\n",
    "plt.scatter(y_test, linear_model_prediction, label=\"Actual vs Predicted\")\n",
    "plt.plot(y_test, y_test, color=\"red\", label=\"Ideal Line\")\n",
    "plt.title(\"Actual vs Predicted Values on Validation Dataset\")\n",
    "plt.xlabel(\"Actual Values\")\n",
    "plt.ylabel(\"Predicted Values\")\n",
    "plt.legend()\n",
    "plt.show()"
   ]
  },
  {
   "cell_type": "code",
   "execution_count": null,
   "metadata": {},
   "outputs": [],
   "source": [
    "# Plot predictions against actual values over time\n",
    "plt.figure(figsize=(12,6))\n",
    "plt.plot(test_data[\"Date\"], test_data[\"Max_Demand_GW\"], color=\"green\", label=\"True Values\")\n",
    "plt.plot(test_data[\"Date\"], linear_model_prediction, color=\"orange\", label=\"Predictions\")\n",
    "plt.xticks(rotation=90)\n",
    "plt.xlabel(\"Date\")\n",
    "plt.ylabel(\"Max_Demand_GW\")\n",
    "plt.legend()\n",
    "plt.show()"
   ]
  },
  {
   "cell_type": "markdown",
   "metadata": {},
   "source": [
    "# Polynomial Regression"
   ]
  },
  {
   "cell_type": "code",
   "execution_count": null,
   "metadata": {},
   "outputs": [],
   "source": [
    "# Polynomial Regression\n",
    "polynomial_model = make_pipeline(PolynomialFeatures(degree=2), LinearRegression())\n",
    "polynomial_model.fit(x_train, y_train)"
   ]
  },
  {
   "cell_type": "code",
   "execution_count": null,
   "metadata": {},
   "outputs": [],
   "source": [
    "# Make predictions on the test dataset\n",
    "polynomial_model_prediction = polynomial_model.predict(x_test)\n",
    "\n",
    "# Model evaluation\n",
    "mae_test= mean_absolute_error(y_test, polynomial_model_prediction)\n",
    "print(f\"Mean Absolute Error (MAE): {mae_test}\")\n",
    "\n",
    "mape = mean_absolute_percentage_error(y_test, polynomial_model_prediction)\n",
    "print(f'Mean Abslute Percentage (MAPE): {mape:.2f}%')\n",
    "\n",
    "mpe = np.mean((y_test - polynomial_model_prediction) / y_test) * 100\n",
    "print(f\"Mean Percentage Error (MPE): {mpe}\")\n",
    "\n",
    "mse_test = mean_squared_error(y_test, polynomial_model_prediction)\n",
    "print(f\"Mean Squared Error (MSE): {mse_test}\")\n",
    "\n",
    "r2 = r2_score(y_test, polynomial_model_prediction)\n",
    "print(f\"R-squared (R2): {r2}\")\n",
    "\n",
    "def calculate_wape(actual, prediction):\n",
    "    residuals = actual - prediction\n",
    "    normalized_residuals = residuals / np.max(np.abs(residuals))\n",
    "    weights = np.abs(normalized_residuals)\n",
    "\n",
    "    abs_percentage_error = np.abs((actual - prediction) / actual) * 100\n",
    "\n",
    "    wape = np.average(abs_percentage_error, weights=weights)\n",
    "\n",
    "    return wape\n",
    "\n",
    "wape = calculate_wape(y_test, polynomial_model_prediction)\n",
    "print(f\"WAPE: {wape}\")"
   ]
  },
  {
   "cell_type": "code",
   "execution_count": null,
   "metadata": {},
   "outputs": [],
   "source": [
    "# Plot predictions against ideal line\n",
    "plt.scatter(y_test, polynomial_model_prediction, label=\"Actual vs Predicted\")\n",
    "plt.plot(y_test, y_test, color=\"red\", label=\"Ideal Line\")\n",
    "plt.title(\"Actual vs Predicted Values on Validation Dataset\")\n",
    "plt.xlabel(\"Actual Values\")\n",
    "plt.ylabel(\"Predicted Values\")\n",
    "plt.legend()\n",
    "plt.show()"
   ]
  },
  {
   "cell_type": "code",
   "execution_count": null,
   "metadata": {},
   "outputs": [],
   "source": [
    "# Plot predictions against actual values over time\n",
    "plt.figure(figsize=(12,6))\n",
    "plt.plot(test_data[\"Date\"], test_data[\"Max_Demand_GW\"], color=\"green\", label=\"True Values\")\n",
    "plt.plot(test_data[\"Date\"], polynomial_model_prediction, color=\"orange\", label=\"Predictions\")\n",
    "plt.xticks(rotation=90)\n",
    "plt.xlabel(\"Date\")\n",
    "plt.ylabel(\"Max_Demand_GW\")\n",
    "plt.legend()\n",
    "plt.show()"
   ]
  }
 ],
 "metadata": {
  "kernelspec": {
   "display_name": "aml",
   "language": "python",
   "name": "python3"
  },
  "language_info": {
   "codemirror_mode": {
    "name": "ipython",
    "version": 3
   },
   "file_extension": ".py",
   "mimetype": "text/x-python",
   "name": "python",
   "nbconvert_exporter": "python",
   "pygments_lexer": "ipython3",
   "version": "3.10.13"
  }
 },
 "nbformat": 4,
 "nbformat_minor": 2
}
